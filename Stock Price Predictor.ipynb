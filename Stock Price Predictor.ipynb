{
 "cells": [
  {
   "cell_type": "markdown",
   "id": "70274efb",
   "metadata": {},
   "source": [
    "# Stock Price Predictor"
   ]
  },
  {
   "cell_type": "markdown",
   "id": "aa8dd39d",
   "metadata": {},
   "source": [
    "**Regression Problem - Predicting the Stock Price of Natural Gas**"
   ]
  },
  {
   "cell_type": "code",
   "execution_count": 1,
   "id": "95abe1fa",
   "metadata": {},
   "outputs": [
    {
     "name": "stdout",
     "output_type": "stream",
     "text": [
      "Collecting yfinance\n",
      "  Downloading yfinance-0.1.70-py2.py3-none-any.whl (26 kB)\n",
      "Requirement already satisfied: requests>=2.26 in /Users/dhruv/opt/anaconda3/lib/python3.8/site-packages (from yfinance) (2.27.1)\n",
      "Requirement already satisfied: pandas>=0.24.0 in /Users/dhruv/opt/anaconda3/lib/python3.8/site-packages (from yfinance) (1.4.1)\n",
      "Collecting multitasking>=0.0.7\n",
      "  Downloading multitasking-0.0.10.tar.gz (8.2 kB)\n",
      "Requirement already satisfied: lxml>=4.5.1 in /Users/dhruv/opt/anaconda3/lib/python3.8/site-packages (from yfinance) (4.8.0)\n",
      "Requirement already satisfied: numpy>=1.15 in /Users/dhruv/opt/anaconda3/lib/python3.8/site-packages (from yfinance) (1.20.3)\n",
      "Requirement already satisfied: python-dateutil>=2.8.1 in /Users/dhruv/opt/anaconda3/lib/python3.8/site-packages (from pandas>=0.24.0->yfinance) (2.8.2)\n",
      "Requirement already satisfied: pytz>=2020.1 in /Users/dhruv/opt/anaconda3/lib/python3.8/site-packages (from pandas>=0.24.0->yfinance) (2021.3)\n",
      "Requirement already satisfied: six>=1.5 in /Users/dhruv/opt/anaconda3/lib/python3.8/site-packages (from python-dateutil>=2.8.1->pandas>=0.24.0->yfinance) (1.16.0)\n",
      "Requirement already satisfied: charset-normalizer~=2.0.0 in /Users/dhruv/opt/anaconda3/lib/python3.8/site-packages (from requests>=2.26->yfinance) (2.0.4)\n",
      "Requirement already satisfied: idna<4,>=2.5 in /Users/dhruv/opt/anaconda3/lib/python3.8/site-packages (from requests>=2.26->yfinance) (3.3)\n",
      "Requirement already satisfied: urllib3<1.27,>=1.21.1 in /Users/dhruv/opt/anaconda3/lib/python3.8/site-packages (from requests>=2.26->yfinance) (1.26.8)\n",
      "Requirement already satisfied: certifi>=2017.4.17 in /Users/dhruv/opt/anaconda3/lib/python3.8/site-packages (from requests>=2.26->yfinance) (2021.10.8)\n",
      "Building wheels for collected packages: multitasking\n",
      "  Building wheel for multitasking (setup.py) ... \u001b[?25ldone\n",
      "\u001b[?25h  Created wheel for multitasking: filename=multitasking-0.0.10-py3-none-any.whl size=8500 sha256=d21d8db4cf8b673cfd0d96432b5e677ae36f165223db7cb7205d527f268c99a3\n",
      "  Stored in directory: /Users/dhruv/Library/Caches/pip/wheels/21/c9/66/b41c847de65c7985db52ec21d59996841598b8b0e93f2b9500\n",
      "Successfully built multitasking\n",
      "Installing collected packages: multitasking, yfinance\n",
      "Successfully installed multitasking-0.0.10 yfinance-0.1.70\n",
      "Note: you may need to restart the kernel to use updated packages.\n"
     ]
    }
   ],
   "source": [
    "pip install yfinance"
   ]
  },
  {
   "cell_type": "code",
   "execution_count": 2,
   "id": "0237ae3c",
   "metadata": {},
   "outputs": [],
   "source": [
    "import numpy as np\n",
    "import pandas as pd\n",
    "import matplotlib.pyplot as plt\n",
    "import seaborn as sns\n",
    "\n",
    "import yfinance as yf\n",
    "\n",
    "%matplotlib inline"
   ]
  },
  {
   "cell_type": "code",
   "execution_count": 4,
   "id": "e4a026eb",
   "metadata": {},
   "outputs": [
    {
     "name": "stdout",
     "output_type": "stream",
     "text": [
      "Enter the code of the stock - NG=F\n",
      "[*********************100%***********************]  1 of 1 completed\n"
     ]
    },
    {
     "data": {
      "text/html": [
       "<div>\n",
       "<style scoped>\n",
       "    .dataframe tbody tr th:only-of-type {\n",
       "        vertical-align: middle;\n",
       "    }\n",
       "\n",
       "    .dataframe tbody tr th {\n",
       "        vertical-align: top;\n",
       "    }\n",
       "\n",
       "    .dataframe thead th {\n",
       "        text-align: right;\n",
       "    }\n",
       "</style>\n",
       "<table border=\"1\" class=\"dataframe\">\n",
       "  <thead>\n",
       "    <tr style=\"text-align: right;\">\n",
       "      <th></th>\n",
       "      <th>Open</th>\n",
       "      <th>High</th>\n",
       "      <th>Low</th>\n",
       "      <th>Close</th>\n",
       "      <th>Volume</th>\n",
       "    </tr>\n",
       "    <tr>\n",
       "      <th>Date</th>\n",
       "      <th></th>\n",
       "      <th></th>\n",
       "      <th></th>\n",
       "      <th></th>\n",
       "      <th></th>\n",
       "    </tr>\n",
       "  </thead>\n",
       "  <tbody>\n",
       "    <tr>\n",
       "      <th>2007-12-31</th>\n",
       "      <td>7.349</td>\n",
       "      <td>7.540</td>\n",
       "      <td>7.283</td>\n",
       "      <td>7.483</td>\n",
       "      <td>27299</td>\n",
       "    </tr>\n",
       "    <tr>\n",
       "      <th>2008-01-02</th>\n",
       "      <td>7.572</td>\n",
       "      <td>7.876</td>\n",
       "      <td>7.564</td>\n",
       "      <td>7.850</td>\n",
       "      <td>68553</td>\n",
       "    </tr>\n",
       "    <tr>\n",
       "      <th>2008-01-03</th>\n",
       "      <td>7.873</td>\n",
       "      <td>7.980</td>\n",
       "      <td>7.610</td>\n",
       "      <td>7.674</td>\n",
       "      <td>72742</td>\n",
       "    </tr>\n",
       "    <tr>\n",
       "      <th>2008-01-04</th>\n",
       "      <td>7.652</td>\n",
       "      <td>7.859</td>\n",
       "      <td>7.500</td>\n",
       "      <td>7.841</td>\n",
       "      <td>61496</td>\n",
       "    </tr>\n",
       "    <tr>\n",
       "      <th>2008-01-07</th>\n",
       "      <td>7.803</td>\n",
       "      <td>7.940</td>\n",
       "      <td>7.701</td>\n",
       "      <td>7.879</td>\n",
       "      <td>56675</td>\n",
       "    </tr>\n",
       "  </tbody>\n",
       "</table>\n",
       "</div>"
      ],
      "text/plain": [
       "             Open   High    Low  Close  Volume\n",
       "Date                                          \n",
       "2007-12-31  7.349  7.540  7.283  7.483   27299\n",
       "2008-01-02  7.572  7.876  7.564  7.850   68553\n",
       "2008-01-03  7.873  7.980  7.610  7.674   72742\n",
       "2008-01-04  7.652  7.859  7.500  7.841   61496\n",
       "2008-01-07  7.803  7.940  7.701  7.879   56675"
      ]
     },
     "execution_count": 4,
     "metadata": {},
     "output_type": "execute_result"
    }
   ],
   "source": [
    "stocks = input(\"Enter the code of the stock - \")\n",
    "#downloading the data from the yahoo finance site\n",
    "data = yf.download(stocks, \"2008-01-01\", \"2021-01-18\", auto_adjust=True)\n",
    "data.head()"
   ]
  },
  {
   "cell_type": "code",
   "execution_count": 5,
   "id": "b4a9496e",
   "metadata": {},
   "outputs": [
    {
     "data": {
      "text/plain": [
       "(3283, 5)"
      ]
     },
     "execution_count": 5,
     "metadata": {},
     "output_type": "execute_result"
    }
   ],
   "source": [
    "data.shape"
   ]
  },
  {
   "cell_type": "code",
   "execution_count": 6,
   "id": "b458eb19",
   "metadata": {},
   "outputs": [
    {
     "name": "stdout",
     "output_type": "stream",
     "text": [
      "<class 'pandas.core.frame.DataFrame'>\n",
      "DatetimeIndex: 3283 entries, 2007-12-31 to 2021-01-15\n",
      "Data columns (total 5 columns):\n",
      " #   Column  Non-Null Count  Dtype  \n",
      "---  ------  --------------  -----  \n",
      " 0   Open    3283 non-null   float64\n",
      " 1   High    3283 non-null   float64\n",
      " 2   Low     3283 non-null   float64\n",
      " 3   Close   3283 non-null   float64\n",
      " 4   Volume  3283 non-null   int64  \n",
      "dtypes: float64(4), int64(1)\n",
      "memory usage: 153.9 KB\n"
     ]
    }
   ],
   "source": [
    "data.info()"
   ]
  },
  {
   "cell_type": "code",
   "execution_count": 7,
   "id": "aa665abc",
   "metadata": {},
   "outputs": [
    {
     "data": {
      "text/html": [
       "<div>\n",
       "<style scoped>\n",
       "    .dataframe tbody tr th:only-of-type {\n",
       "        vertical-align: middle;\n",
       "    }\n",
       "\n",
       "    .dataframe tbody tr th {\n",
       "        vertical-align: top;\n",
       "    }\n",
       "\n",
       "    .dataframe thead th {\n",
       "        text-align: right;\n",
       "    }\n",
       "</style>\n",
       "<table border=\"1\" class=\"dataframe\">\n",
       "  <thead>\n",
       "    <tr style=\"text-align: right;\">\n",
       "      <th></th>\n",
       "      <th>Open</th>\n",
       "      <th>High</th>\n",
       "      <th>Low</th>\n",
       "      <th>Close</th>\n",
       "      <th>Volume</th>\n",
       "    </tr>\n",
       "  </thead>\n",
       "  <tbody>\n",
       "    <tr>\n",
       "      <th>count</th>\n",
       "      <td>3283.000000</td>\n",
       "      <td>3283.000000</td>\n",
       "      <td>3283.000000</td>\n",
       "      <td>3283.000000</td>\n",
       "      <td>3283.000000</td>\n",
       "    </tr>\n",
       "    <tr>\n",
       "      <th>mean</th>\n",
       "      <td>3.714812</td>\n",
       "      <td>3.788431</td>\n",
       "      <td>3.636149</td>\n",
       "      <td>3.708224</td>\n",
       "      <td>131365.895218</td>\n",
       "    </tr>\n",
       "    <tr>\n",
       "      <th>std</th>\n",
       "      <td>1.831245</td>\n",
       "      <td>1.866609</td>\n",
       "      <td>1.790444</td>\n",
       "      <td>1.826208</td>\n",
       "      <td>54415.091229</td>\n",
       "    </tr>\n",
       "    <tr>\n",
       "      <th>min</th>\n",
       "      <td>1.441000</td>\n",
       "      <td>1.567000</td>\n",
       "      <td>1.432000</td>\n",
       "      <td>1.482000</td>\n",
       "      <td>0.000000</td>\n",
       "    </tr>\n",
       "    <tr>\n",
       "      <th>25%</th>\n",
       "      <td>2.691500</td>\n",
       "      <td>2.737000</td>\n",
       "      <td>2.644000</td>\n",
       "      <td>2.693000</td>\n",
       "      <td>91735.000000</td>\n",
       "    </tr>\n",
       "    <tr>\n",
       "      <th>50%</th>\n",
       "      <td>3.253000</td>\n",
       "      <td>3.313000</td>\n",
       "      <td>3.184000</td>\n",
       "      <td>3.242000</td>\n",
       "      <td>126609.000000</td>\n",
       "    </tr>\n",
       "    <tr>\n",
       "      <th>75%</th>\n",
       "      <td>4.158500</td>\n",
       "      <td>4.245000</td>\n",
       "      <td>4.068000</td>\n",
       "      <td>4.153000</td>\n",
       "      <td>161479.000000</td>\n",
       "    </tr>\n",
       "    <tr>\n",
       "      <th>max</th>\n",
       "      <td>13.580000</td>\n",
       "      <td>13.694000</td>\n",
       "      <td>13.306000</td>\n",
       "      <td>13.577000</td>\n",
       "      <td>459196.000000</td>\n",
       "    </tr>\n",
       "  </tbody>\n",
       "</table>\n",
       "</div>"
      ],
      "text/plain": [
       "              Open         High          Low        Close         Volume\n",
       "count  3283.000000  3283.000000  3283.000000  3283.000000    3283.000000\n",
       "mean      3.714812     3.788431     3.636149     3.708224  131365.895218\n",
       "std       1.831245     1.866609     1.790444     1.826208   54415.091229\n",
       "min       1.441000     1.567000     1.432000     1.482000       0.000000\n",
       "25%       2.691500     2.737000     2.644000     2.693000   91735.000000\n",
       "50%       3.253000     3.313000     3.184000     3.242000  126609.000000\n",
       "75%       4.158500     4.245000     4.068000     4.153000  161479.000000\n",
       "max      13.580000    13.694000    13.306000    13.577000  459196.000000"
      ]
     },
     "execution_count": 7,
     "metadata": {},
     "output_type": "execute_result"
    }
   ],
   "source": [
    "data.describe()"
   ]
  },
  {
   "cell_type": "code",
   "execution_count": 9,
   "id": "f938e330",
   "metadata": {},
   "outputs": [
    {
     "data": {
      "image/png": "[encoded data removed]",
      "text/plain": [
       "<Figure size 720x504 with 1 Axes>"
      ]
     },
     "metadata": {
      "needs_background": "light"
     },
     "output_type": "display_data"
    }
   ],
   "source": [
    "data.Close.plot(figsize = (10,7), color = 'r')\n",
    "plt.ylabel(\"{} Prices\".format(stocks))\n",
    "plt.title(\"{} Price Series\".format(stocks))\n",
    "plt.show()"
   ]
  },
  {
   "cell_type": "markdown",
   "id": "6e2c4e23",
   "metadata": {},
   "source": [
    "As we can see the closing price of natural gas started low in 2008, shot upwards in 2009 and drastically went down in 2010. <br>\n",
    "WE CAN CLEARLY SEE THAT THE STOCK PRICES PERFORM IN A NON LINEAR MANNER"
   ]
  },
  {
   "cell_type": "code",
   "execution_count": 11,
   "id": "0635b58d",
   "metadata": {},
   "outputs": [
    {
     "name": "stderr",
     "output_type": "stream",
     "text": [
      "/Users/dhruv/opt/anaconda3/lib/python3.8/site-packages/seaborn/distributions.py:2619: FutureWarning: `distplot` is a deprecated function and will be removed in a future version. Please adapt your code to use either `displot` (a figure-level function with similar flexibility) or `histplot` (an axes-level function for histograms).\n",
      "  warnings.warn(msg, FutureWarning)\n"
     ]
    },
    {
     "data": {
      "text/plain": [
       "<AxesSubplot:xlabel='Close', ylabel='Density'>"
      ]
     },
     "execution_count": 11,
     "metadata": {},
     "output_type": "execute_result"
    },
    {
     "data": {
      "image/png": "[encoded data removed]",
      "text/plain": [
       "<Figure size 432x288 with 1 Axes>"
      ]
     },
     "metadata": {
      "needs_background": "light"
     },
     "output_type": "display_data"
    }
   ],
   "source": [
    "sns.distplot(data[\"Close\"])"
   ]
  },
  {
   "cell_type": "code",
   "execution_count": 12,
   "id": "61f5a1fa",
   "metadata": {},
   "outputs": [
    {
     "name": "stderr",
     "output_type": "stream",
     "text": [
      "/Users/dhruv/opt/anaconda3/lib/python3.8/site-packages/seaborn/distributions.py:2619: FutureWarning: `distplot` is a deprecated function and will be removed in a future version. Please adapt your code to use either `displot` (a figure-level function with similar flexibility) or `histplot` (an axes-level function for histograms).\n",
      "  warnings.warn(msg, FutureWarning)\n"
     ]
    },
    {
     "data": {
      "text/plain": [
       "<AxesSubplot:xlabel='Open', ylabel='Density'>"
      ]
     },
     "execution_count": 12,
     "metadata": {},
     "output_type": "execute_result"
    },
    {
     "data": {
      "image/png": "[encoded data removed]",
      "text/plain": [
       "<Figure size 432x288 with 1 Axes>"
      ]
     },
     "metadata": {
      "needs_background": "light"
     },
     "output_type": "display_data"
    }
   ],
   "source": [
    "sns.distplot(data[\"Open\"])"
   ]
  },
  {
   "cell_type": "code",
   "execution_count": 13,
   "id": "ef65e7f6",
   "metadata": {},
   "outputs": [
    {
     "name": "stderr",
     "output_type": "stream",
     "text": [
      "/Users/dhruv/opt/anaconda3/lib/python3.8/site-packages/seaborn/distributions.py:2619: FutureWarning: `distplot` is a deprecated function and will be removed in a future version. Please adapt your code to use either `displot` (a figure-level function with similar flexibility) or `histplot` (an axes-level function for histograms).\n",
      "  warnings.warn(msg, FutureWarning)\n"
     ]
    },
    {
     "data": {
      "text/plain": [
       "<AxesSubplot:xlabel='High', ylabel='Density'>"
      ]
     },
     "execution_count": 13,
     "metadata": {},
     "output_type": "execute_result"
    },
    {
     "data": {
      "image/png": "[encoded data removed]",
      "text/plain": [
       "<Figure size 432x288 with 1 Axes>"
      ]
     },
     "metadata": {
      "needs_background": "light"
     },
     "output_type": "display_data"
    }
   ],
   "source": [
    "sns.distplot(data[\"High\"])"
   ]
  },
  {
   "cell_type": "markdown",
   "id": "8fdedfb0",
   "metadata": {},
   "source": [
    "We can clearly see that the above plots for the given data are extremely non-linear"
   ]
  },
  {
   "cell_type": "code",
   "execution_count": 15,
   "id": "1826463f",
   "metadata": {},
   "outputs": [
    {
     "name": "stdout",
     "output_type": "stream",
     "text": [
      "(2626, 4)\n",
      "(657, 4)\n",
      "(2626,)\n",
      "(657,)\n"
     ]
    }
   ],
   "source": [
    "#Splitting data in x and y, training and testing set\n",
    "X = data.drop(\"Close\", axis = 1)\n",
    "y = data[\"Close\"]\n",
    "\n",
    "from sklearn.model_selection import train_test_split\n",
    "\n",
    "#Splitting data in 80% training & 20% testing to validate model\n",
    "\n",
    "X_train, X_test, y_train, y_test = train_test_split(X, y, test_size = 0.2, random_state = 0)\n",
    "#Random state means if the model is run again, the data will not change\n",
    "print(X_train.shape)\n",
    "print(X_test.shape)\n",
    "print(y_train.shape)\n",
    "print(y_test.shape)"
   ]
  },
  {
   "cell_type": "code",
   "execution_count": 16,
   "id": "219b0095",
   "metadata": {},
   "outputs": [],
   "source": [
    "from sklearn.linear_model import LinearRegression\n",
    "\n",
    "lr = LinearRegression()\n",
    "lr.fit(X_train, y_train)\n",
    "pred1 = lr.predict(X_test)"
   ]
  },
  {
   "cell_type": "code",
   "execution_count": 18,
   "id": "181d9825",
   "metadata": {},
   "outputs": [],
   "source": [
    "# MSE - Mean Square Error\n",
    "# Cost Function for Linear Regression\n",
    "# RMSE - Square Root Of MSE\n",
    "# r2_square = 1.0 implies good model"
   ]
  },
  {
   "cell_type": "code",
   "execution_count": 19,
   "id": "dd61ad75",
   "metadata": {},
   "outputs": [
    {
     "name": "stdout",
     "output_type": "stream",
     "text": [
      "MSE -  0.0013865447236289627\n",
      "RMSE -  0.03723633606611911\n",
      "R2 Score -  0.9994903556172761\n"
     ]
    }
   ],
   "source": [
    "from sklearn.metrics import mean_squared_error, r2_score\n",
    "\n",
    "#helper function\n",
    "def calculate_metrics(y_test, y_pred) :\n",
    "    mse = mean_squared_error(y_test, y_pred)\n",
    "    rmse = np.sqrt(mse)\n",
    "    r2_scores = r2_score(y_test, y_pred)\n",
    "    print(\"MSE - \", mse)\n",
    "    print(\"RMSE - \", rmse)\n",
    "    print(\"R2 Score - \", r2_scores)\n",
    "    \n",
    "calculate_metrics(y_test, pred1)\n",
    "    \n",
    "# y_test - ground truth\n",
    "# y_pred - model predicted value"
   ]
  },
  {
   "cell_type": "code",
   "execution_count": 20,
   "id": "6d7a5fe8",
   "metadata": {},
   "outputs": [],
   "source": [
    "#MSE ~ 0 \n",
    "#R2 Score ~ 1\n",
    "#Both these imply that this is a good model\n",
    "#Thus linear regression performs very good on this data"
   ]
  },
  {
   "cell_type": "code",
   "execution_count": 21,
   "id": "3d289f74",
   "metadata": {},
   "outputs": [],
   "source": [
    "# Going on to regularised linear models - ridge & lasso\n",
    "\n",
    "# Lasso - eliminates less important features\n",
    "# Ridge - penalises less important features\n",
    "\n",
    "from sklearn.linear_model import Lasso, Ridge\n",
    "\n",
    "la = Lasso().fit(X_train, y_train)\n",
    "ri = Ridge().fit(X_train, y_train)\n",
    "\n",
    "la_p = la.predict(X_test)\n",
    "ri_p = ri.predict(X_test)"
   ]
  },
  {
   "cell_type": "code",
   "execution_count": 22,
   "id": "3782e9ac",
   "metadata": {},
   "outputs": [
    {
     "name": "stdout",
     "output_type": "stream",
     "text": [
      "MSE -  0.23080191549056567\n",
      "RMSE -  0.48041847954732725\n",
      "R2 Score -  0.9151654485086915\n"
     ]
    }
   ],
   "source": [
    "calculate_metrics(y_test, la_p)"
   ]
  },
  {
   "cell_type": "code",
   "execution_count": 23,
   "id": "08056752",
   "metadata": {},
   "outputs": [
    {
     "name": "stdout",
     "output_type": "stream",
     "text": [
      "MSE -  0.0014485479006936697\n",
      "RMSE -  0.038059793755269744\n",
      "R2 Score -  0.9994675654610239\n"
     ]
    }
   ],
   "source": [
    "calculate_metrics(y_test, ri_p)"
   ]
  },
  {
   "cell_type": "code",
   "execution_count": 24,
   "id": "febd13b1",
   "metadata": {},
   "outputs": [],
   "source": [
    "# As we can see ridge model is less prone to Overfitting, and hence we are going to use Ridge Regression to save our model"
   ]
  },
  {
   "cell_type": "code",
   "execution_count": 28,
   "id": "5e2b47ba",
   "metadata": {
    "scrolled": true
   },
   "outputs": [
    {
     "name": "stdout",
     "output_type": "stream",
     "text": [
      "Fitting 5 folds for each of 16 candidates, totalling 80 fits\n",
      "[CV 1/5] END .......C=0.1, gamma=1, kernel=rbf;, score=-0.080 total time=   0.3s\n",
      "[CV 2/5] END .......C=0.1, gamma=1, kernel=rbf;, score=-0.071 total time=   0.2s\n",
      "[CV 3/5] END .......C=0.1, gamma=1, kernel=rbf;, score=-0.064 total time=   0.2s\n",
      "[CV 4/5] END .......C=0.1, gamma=1, kernel=rbf;, score=-0.067 total time=   0.2s\n",
      "[CV 5/5] END .......C=0.1, gamma=1, kernel=rbf;, score=-0.043 total time=   0.2s\n",
      "[CV 1/5] END .....C=0.1, gamma=0.1, kernel=rbf;, score=-0.080 total time=   0.2s\n",
      "[CV 2/5] END .....C=0.1, gamma=0.1, kernel=rbf;, score=-0.070 total time=   0.3s\n",
      "[CV 3/5] END .....C=0.1, gamma=0.1, kernel=rbf;, score=-0.063 total time=   0.2s\n",
      "[CV 4/5] END .....C=0.1, gamma=0.1, kernel=rbf;, score=-0.067 total time=   0.2s\n",
      "[CV 5/5] END .....C=0.1, gamma=0.1, kernel=rbf;, score=-0.042 total time=   0.3s\n",
      "[CV 1/5] END ....C=0.1, gamma=0.01, kernel=rbf;, score=-0.080 total time=   0.3s\n",
      "[CV 2/5] END ....C=0.1, gamma=0.01, kernel=rbf;, score=-0.071 total time=   0.3s\n",
      "[CV 3/5] END ....C=0.1, gamma=0.01, kernel=rbf;, score=-0.062 total time=   0.2s\n",
      "[CV 4/5] END ....C=0.1, gamma=0.01, kernel=rbf;, score=-0.067 total time=   0.2s\n",
      "[CV 5/5] END ....C=0.1, gamma=0.01, kernel=rbf;, score=-0.041 total time=   0.2s\n",
      "[CV 1/5] END ..C=0.1, gamma=0.0001, kernel=rbf;, score=-0.054 total time=   0.2s\n",
      "[CV 2/5] END ..C=0.1, gamma=0.0001, kernel=rbf;, score=-0.050 total time=   0.2s\n",
      "[CV 3/5] END ..C=0.1, gamma=0.0001, kernel=rbf;, score=-0.041 total time=   0.2s\n",
      "[CV 4/5] END ..C=0.1, gamma=0.0001, kernel=rbf;, score=-0.052 total time=   0.2s\n",
      "[CV 5/5] END ..C=0.1, gamma=0.0001, kernel=rbf;, score=-0.027 total time=   0.2s\n",
      "[CV 1/5] END .........C=1, gamma=1, kernel=rbf;, score=-0.045 total time=   0.3s\n",
      "[CV 2/5] END .........C=1, gamma=1, kernel=rbf;, score=-0.041 total time=   0.3s\n",
      "[CV 3/5] END .........C=1, gamma=1, kernel=rbf;, score=-0.035 total time=   0.3s\n",
      "[CV 4/5] END .........C=1, gamma=1, kernel=rbf;, score=-0.039 total time=   0.3s\n",
      "[CV 5/5] END .........C=1, gamma=1, kernel=rbf;, score=-0.018 total time=   0.3s\n",
      "[CV 1/5] END .......C=1, gamma=0.1, kernel=rbf;, score=-0.043 total time=   0.3s\n",
      "[CV 2/5] END .......C=1, gamma=0.1, kernel=rbf;, score=-0.041 total time=   0.3s\n",
      "[CV 3/5] END .......C=1, gamma=0.1, kernel=rbf;, score=-0.034 total time=   0.3s\n",
      "[CV 4/5] END .......C=1, gamma=0.1, kernel=rbf;, score=-0.039 total time=   0.3s\n",
      "[CV 5/5] END .......C=1, gamma=0.1, kernel=rbf;, score=-0.018 total time=   0.3s\n",
      "[CV 1/5] END ......C=1, gamma=0.01, kernel=rbf;, score=-0.045 total time=   0.3s\n",
      "[CV 2/5] END ......C=1, gamma=0.01, kernel=rbf;, score=-0.044 total time=   0.3s\n",
      "[CV 3/5] END ......C=1, gamma=0.01, kernel=rbf;, score=-0.035 total time=   0.3s\n",
      "[CV 4/5] END ......C=1, gamma=0.01, kernel=rbf;, score=-0.039 total time=   0.3s\n",
      "[CV 5/5] END ......C=1, gamma=0.01, kernel=rbf;, score=-0.012 total time=   0.3s\n",
      "[CV 1/5] END ....C=1, gamma=0.0001, kernel=rbf;, score=-0.010 total time=   0.3s\n",
      "[CV 2/5] END ....C=1, gamma=0.0001, kernel=rbf;, score=-0.053 total time=   0.3s\n",
      "[CV 3/5] END ....C=1, gamma=0.0001, kernel=rbf;, score=-0.011 total time=   0.3s\n",
      "[CV 4/5] END ....C=1, gamma=0.0001, kernel=rbf;, score=-0.028 total time=   0.3s\n",
      "[CV 5/5] END ....C=1, gamma=0.0001, kernel=rbf;, score=-0.032 total time=   0.3s\n",
      "[CV 1/5] END .........C=10, gamma=1, kernel=rbf;, score=0.001 total time=   0.3s\n",
      "[CV 2/5] END .........C=10, gamma=1, kernel=rbf;, score=0.002 total time=   0.3s\n",
      "[CV 3/5] END .........C=10, gamma=1, kernel=rbf;, score=0.002 total time=   0.3s\n",
      "[CV 4/5] END .........C=10, gamma=1, kernel=rbf;, score=0.000 total time=   0.3s\n",
      "[CV 5/5] END ........C=10, gamma=1, kernel=rbf;, score=-0.008 total time=   0.3s\n",
      "[CV 1/5] END .......C=10, gamma=0.1, kernel=rbf;, score=0.003 total time=   0.3s\n",
      "[CV 2/5] END .......C=10, gamma=0.1, kernel=rbf;, score=0.003 total time=   0.3s\n",
      "[CV 3/5] END .......C=10, gamma=0.1, kernel=rbf;, score=0.004 total time=   0.3s\n",
      "[CV 4/5] END .......C=10, gamma=0.1, kernel=rbf;, score=0.002 total time=   0.3s\n",
      "[CV 5/5] END ......C=10, gamma=0.1, kernel=rbf;, score=-0.005 total time=   0.3s\n",
      "[CV 1/5] END ......C=10, gamma=0.01, kernel=rbf;, score=0.000 total time=   0.3s\n",
      "[CV 2/5] END ......C=10, gamma=0.01, kernel=rbf;, score=0.015 total time=   0.3s\n",
      "[CV 3/5] END ......C=10, gamma=0.01, kernel=rbf;, score=0.014 total time=   0.3s\n",
      "[CV 4/5] END ......C=10, gamma=0.01, kernel=rbf;, score=0.016 total time=   0.3s\n",
      "[CV 5/5] END .....C=10, gamma=0.01, kernel=rbf;, score=-0.004 total time=   0.3s\n",
      "[CV 1/5] END ...C=10, gamma=0.0001, kernel=rbf;, score=-0.199 total time=   0.4s\n",
      "[CV 2/5] END ...C=10, gamma=0.0001, kernel=rbf;, score=-0.207 total time=   0.4s\n",
      "[CV 3/5] END ...C=10, gamma=0.0001, kernel=rbf;, score=-0.329 total time=   0.4s\n",
      "[CV 4/5] END ...C=10, gamma=0.0001, kernel=rbf;, score=-0.262 total time=   0.4s\n",
      "[CV 5/5] END ...C=10, gamma=0.0001, kernel=rbf;, score=-0.360 total time=   0.4s\n",
      "[CV 1/5] END .......C=1000, gamma=1, kernel=rbf;, score=0.001 total time=   0.3s\n",
      "[CV 2/5] END .......C=1000, gamma=1, kernel=rbf;, score=0.002 total time=   0.3s\n",
      "[CV 3/5] END .......C=1000, gamma=1, kernel=rbf;, score=0.002 total time=   0.3s\n",
      "[CV 4/5] END .......C=1000, gamma=1, kernel=rbf;, score=0.000 total time=   0.3s\n",
      "[CV 5/5] END ......C=1000, gamma=1, kernel=rbf;, score=-0.008 total time=   0.3s\n",
      "[CV 1/5] END .....C=1000, gamma=0.1, kernel=rbf;, score=0.003 total time=   0.3s\n",
      "[CV 2/5] END .....C=1000, gamma=0.1, kernel=rbf;, score=0.003 total time=   0.3s\n",
      "[CV 3/5] END .....C=1000, gamma=0.1, kernel=rbf;, score=0.004 total time=   0.3s\n",
      "[CV 4/5] END .....C=1000, gamma=0.1, kernel=rbf;, score=0.002 total time=   0.3s\n",
      "[CV 5/5] END ....C=1000, gamma=0.1, kernel=rbf;, score=-0.005 total time=   0.3s\n",
      "[CV 1/5] END ....C=1000, gamma=0.01, kernel=rbf;, score=0.000 total time=   0.3s\n",
      "[CV 2/5] END ....C=1000, gamma=0.01, kernel=rbf;, score=0.015 total time=   0.3s\n",
      "[CV 3/5] END ....C=1000, gamma=0.01, kernel=rbf;, score=0.014 total time=   0.3s\n",
      "[CV 4/5] END ....C=1000, gamma=0.01, kernel=rbf;, score=0.016 total time=   0.3s\n",
      "[CV 5/5] END ...C=1000, gamma=0.01, kernel=rbf;, score=-0.004 total time=   0.3s\n",
      "[CV 1/5] END .C=1000, gamma=0.0001, kernel=rbf;, score=-0.965 total time=   4.6s\n",
      "[CV 2/5] END .C=1000, gamma=0.0001, kernel=rbf;, score=-0.832 total time=   4.5s\n",
      "[CV 3/5] END .C=1000, gamma=0.0001, kernel=rbf;, score=-1.393 total time=   4.4s\n",
      "[CV 4/5] END .C=1000, gamma=0.0001, kernel=rbf;, score=-0.880 total time=   4.8s\n",
      "[CV 5/5] END .C=1000, gamma=0.0001, kernel=rbf;, score=-1.229 total time=   5.1s\n"
     ]
    },
    {
     "data": {
      "text/plain": [
       "GridSearchCV(estimator=SVR(),\n",
       "             param_grid={'C': [0.1, 1, 10, 1000],\n",
       "                         'gamma': [1, 0.1, 0.01, 0.0001], 'kernel': ['rbf']},\n",
       "             verbose=3)"
      ]
     },
     "execution_count": 28,
     "metadata": {},
     "output_type": "execute_result"
    }
   ],
   "source": [
    "# We can also try to use SVM for this task\n",
    "# SVM might not work well in this case\n",
    "# Works very well when there are many features\n",
    "\n",
    "from sklearn.svm import SVR\n",
    "from sklearn.model_selection import GridSearchCV\n",
    "\n",
    "svr = SVR()\n",
    "\n",
    "param_grid = {'C' : [0.1, 1, 10, 1000],\n",
    "             'gamma' : [1, 0.1, 0.01, 0.0001],\n",
    "              'kernel' : ['rbf']}\n",
    "\n",
    "grid = GridSearchCV(SVR(), param_grid, refit = True, verbose = 3)\n",
    "grid.fit(X_train, y_train)"
   ]
  },
  {
   "cell_type": "code",
   "execution_count": 29,
   "id": "faa16f83",
   "metadata": {},
   "outputs": [],
   "source": [
    "svr = SVR(C = 10, gamma = 0.01, kernel = 'rbf')\n",
    "svr.fit(X_train, y_train)\n",
    "svr_pred = svr.predict(X_test)"
   ]
  },
  {
   "cell_type": "code",
   "execution_count": 31,
   "id": "ba7d0426",
   "metadata": {},
   "outputs": [
    {
     "name": "stdout",
     "output_type": "stream",
     "text": [
      "MSE -  2.716279911062092\n",
      "RMSE -  1.6481140467401192\n",
      "R2 Score -  0.0015923936765451785\n"
     ]
    }
   ],
   "source": [
    "calculate_metrics(y_test, svr_pred)"
   ]
  },
  {
   "cell_type": "code",
   "execution_count": 32,
   "id": "ed8bd535",
   "metadata": {},
   "outputs": [],
   "source": [
    "# As we can see, SVM is performing very bad, because of less features\n",
    "# Regularised linear models are more powerful in this case"
   ]
  },
  {
   "cell_type": "code",
   "execution_count": 35,
   "id": "5938d54c",
   "metadata": {},
   "outputs": [],
   "source": [
    "import joblib\n",
    "\n",
    "joblib.dump(ri, 'model.pkl')\n",
    "ridge_from_joblib = model = joblib.load(\"model.pkl\")"
   ]
  },
  {
   "cell_type": "code",
   "execution_count": 36,
   "id": "5d8b63f1",
   "metadata": {},
   "outputs": [],
   "source": [
    "# from the above code, a pkl file is added in the cd\n",
    "# from this pkl file, we can make predicitions"
   ]
  },
  {
   "cell_type": "code",
   "execution_count": 37,
   "id": "567b8a82",
   "metadata": {},
   "outputs": [],
   "source": [
    "# Linear Regression doesnt work well when data is highly correlated\n",
    "# We can use Principal Component Analysis to remove multi-colinearlity from the data"
   ]
  }
 ],
 "metadata": {
  "kernelspec": {
   "display_name": "Python 3 (ipykernel)",
   "language": "python",
   "name": "python3"
  },
  "language_info": {
   "codemirror_mode": {
    "name": "ipython",
    "version": 3
   },
   "file_extension": ".py",
   "mimetype": "text/x-python",
   "name": "python",
   "nbconvert_exporter": "python",
   "pygments_lexer": "ipython3",
   "version": "3.8.8"
  }
 },
 "nbformat": 4,
 "nbformat_minor": 5
}
